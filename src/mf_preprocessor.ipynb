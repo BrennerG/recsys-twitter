{
 "cells": [
  {
   "cell_type": "code",
   "execution_count": 1,
   "metadata": {},
   "outputs": [],
   "source": [
    "import pandas as pd\n",
    "from pyspark import SparkConf, SparkContext\n",
    "from pyspark.ml.evaluation import RegressionEvaluator\n",
    "from pyspark.ml.recommendation import ALS\n",
    "from pyspark.sql import Row\n",
    "from pyspark.sql import SparkSession\n",
    "from pyspark.sql.types import *\n",
    "import pyspark.sql.functions as F\n",
    "\n",
    "import mf_preprocessor\n",
    "import importlib\n",
    "importlib.reload(mf_preprocessor)\n",
    "from mf_preprocessor import *"
   ]
  },
  {
   "cell_type": "code",
   "execution_count": 2,
   "metadata": {},
   "outputs": [],
   "source": [
    "#.config(\"spark.executor.memoryOverhead\", \"64g\")\\\n",
    "spark = SparkSession\\\n",
    "    .builder\\\n",
    "    .appName(\"mf-preprocessor\")\\\n",
    "    .config(\"spark.executor.heartbeatInterval\", \"60s\")\\\n",
    "    .config(\"spark.executor.memory\", \"8g\")\\\n",
    "    .config(\"spark.driver.memory\", \"8g\")\\\n",
    "    .config(\"spark.driver.maxResultSize\", \"64g\")\\\n",
    "    .config(\"spark.sql.crossJoin.enabled\", True)\\\n",
    "    .getOrCreate()\n",
    "sc = spark.sparkContext"
   ]
  },
  {
   "cell_type": "code",
   "execution_count": 3,
   "metadata": {},
   "outputs": [],
   "source": [
    "def to_pd(df, take=0):\n",
    "    if take > 0:\n",
    "        return pd.DataFrame(df.take(take), columns=df.columns)\n",
    "    return pd.DataFrame(df.collect(), columns=df.columns)"
   ]
  },
  {
   "cell_type": "code",
   "execution_count": 4,
   "metadata": {},
   "outputs": [],
   "source": [
    "preproc = mf_preprocessor(spark, sc)\n",
    "df_train = preproc.read_preprocessed(\"train_mf_indexed.tsv\")"
   ]
  },
  {
   "cell_type": "code",
   "execution_count": 20,
   "metadata": {},
   "outputs": [],
   "source": [
    "df_test = preproc.read_preprocessed(\"test_mf_indexed.tsv\")"
   ]
  },
  {
   "cell_type": "code",
   "execution_count": 5,
   "metadata": {},
   "outputs": [
    {
     "data": {
      "text/html": [
       "<div>\n",
       "<style scoped>\n",
       "    .dataframe tbody tr th:only-of-type {\n",
       "        vertical-align: middle;\n",
       "    }\n",
       "\n",
       "    .dataframe tbody tr th {\n",
       "        vertical-align: top;\n",
       "    }\n",
       "\n",
       "    .dataframe thead th {\n",
       "        text-align: right;\n",
       "    }\n",
       "</style>\n",
       "<table border=\"1\" class=\"dataframe\">\n",
       "  <thead>\n",
       "    <tr style=\"text-align: right;\">\n",
       "      <th></th>\n",
       "      <th>like</th>\n",
       "      <th>reply</th>\n",
       "      <th>retweet</th>\n",
       "      <th>retweet_with_comment</th>\n",
       "      <th>tweet_id_index</th>\n",
       "      <th>engaging_user_id_index</th>\n",
       "    </tr>\n",
       "  </thead>\n",
       "  <tbody>\n",
       "    <tr>\n",
       "      <th>0</th>\n",
       "      <td>0</td>\n",
       "      <td>0</td>\n",
       "      <td>0</td>\n",
       "      <td>0</td>\n",
       "      <td>55204155</td>\n",
       "      <td>0</td>\n",
       "    </tr>\n",
       "    <tr>\n",
       "      <th>1</th>\n",
       "      <td>1</td>\n",
       "      <td>0</td>\n",
       "      <td>0</td>\n",
       "      <td>0</td>\n",
       "      <td>45145377</td>\n",
       "      <td>0</td>\n",
       "    </tr>\n",
       "    <tr>\n",
       "      <th>2</th>\n",
       "      <td>0</td>\n",
       "      <td>0</td>\n",
       "      <td>0</td>\n",
       "      <td>0</td>\n",
       "      <td>7081791</td>\n",
       "      <td>0</td>\n",
       "    </tr>\n",
       "    <tr>\n",
       "      <th>3</th>\n",
       "      <td>0</td>\n",
       "      <td>0</td>\n",
       "      <td>0</td>\n",
       "      <td>0</td>\n",
       "      <td>37895242</td>\n",
       "      <td>0</td>\n",
       "    </tr>\n",
       "    <tr>\n",
       "      <th>4</th>\n",
       "      <td>1</td>\n",
       "      <td>0</td>\n",
       "      <td>0</td>\n",
       "      <td>0</td>\n",
       "      <td>36986637</td>\n",
       "      <td>179</td>\n",
       "    </tr>\n",
       "  </tbody>\n",
       "</table>\n",
       "</div>"
      ],
      "text/plain": [
       "   like  reply  retweet  retweet_with_comment  tweet_id_index  \\\n",
       "0     0      0        0                     0        55204155   \n",
       "1     1      0        0                     0        45145377   \n",
       "2     0      0        0                     0         7081791   \n",
       "3     0      0        0                     0        37895242   \n",
       "4     1      0        0                     0        36986637   \n",
       "\n",
       "   engaging_user_id_index  \n",
       "0                       0  \n",
       "1                       0  \n",
       "2                       0  \n",
       "3                       0  \n",
       "4                     179  "
      ]
     },
     "execution_count": 5,
     "metadata": {},
     "output_type": "execute_result"
    }
   ],
   "source": [
    "to_pd(df_train, 5)"
   ]
  },
  {
   "cell_type": "code",
   "execution_count": 8,
   "metadata": {},
   "outputs": [],
   "source": [
    "index_files = {\"tweet_id\": \"tweet_id_indices.tsv\", \"engaging_user_id\": \"engaging_user_id_indices.tsv\"}\n",
    "id_columns = [\"tweet_id\", \"engaging_user_id\"]\n",
    "id_indices = {}\n",
    "for id_column in id_columns:\n",
    "    id_indices[id_column] = spark.read.csv(path=index_files[id_column], sep=\"\\x01\", header=True)\n",
    "    id_indices[id_column] = id_indices[id_column].withColumn(id_column + \"_index\", F.col(id_column + \"_index\").cast(LongType()))"
   ]
  },
  {
   "cell_type": "code",
   "execution_count": 9,
   "metadata": {},
   "outputs": [
    {
     "data": {
      "text/html": [
       "<div>\n",
       "<style scoped>\n",
       "    .dataframe tbody tr th:only-of-type {\n",
       "        vertical-align: middle;\n",
       "    }\n",
       "\n",
       "    .dataframe tbody tr th {\n",
       "        vertical-align: top;\n",
       "    }\n",
       "\n",
       "    .dataframe thead th {\n",
       "        text-align: right;\n",
       "    }\n",
       "</style>\n",
       "<table border=\"1\" class=\"dataframe\">\n",
       "  <thead>\n",
       "    <tr style=\"text-align: right;\">\n",
       "      <th></th>\n",
       "      <th>tweet_id</th>\n",
       "      <th>tweet_id_index</th>\n",
       "    </tr>\n",
       "  </thead>\n",
       "  <tbody>\n",
       "    <tr>\n",
       "      <th>0</th>\n",
       "      <td>3320617E253DFAB4C010DB10C68168FF</td>\n",
       "      <td>13260133</td>\n",
       "    </tr>\n",
       "    <tr>\n",
       "      <th>1</th>\n",
       "      <td>332061AD7951EBA08A7E410391ECAA79</td>\n",
       "      <td>13260134</td>\n",
       "    </tr>\n",
       "    <tr>\n",
       "      <th>2</th>\n",
       "      <td>332061C6A87568C43CDBB5D9CF72210B</td>\n",
       "      <td>13260135</td>\n",
       "    </tr>\n",
       "    <tr>\n",
       "      <th>3</th>\n",
       "      <td>33206251F82FE379DA753DA6528D54A6</td>\n",
       "      <td>13260136</td>\n",
       "    </tr>\n",
       "    <tr>\n",
       "      <th>4</th>\n",
       "      <td>3320625E223B2766B397657B751EBC8D</td>\n",
       "      <td>13260137</td>\n",
       "    </tr>\n",
       "  </tbody>\n",
       "</table>\n",
       "</div>"
      ],
      "text/plain": [
       "                           tweet_id  tweet_id_index\n",
       "0  3320617E253DFAB4C010DB10C68168FF        13260133\n",
       "1  332061AD7951EBA08A7E410391ECAA79        13260134\n",
       "2  332061C6A87568C43CDBB5D9CF72210B        13260135\n",
       "3  33206251F82FE379DA753DA6528D54A6        13260136\n",
       "4  3320625E223B2766B397657B751EBC8D        13260137"
      ]
     },
     "execution_count": 9,
     "metadata": {},
     "output_type": "execute_result"
    }
   ],
   "source": [
    "to_pd(id_indices[\"tweet_id\"], 5)"
   ]
  },
  {
   "cell_type": "code",
   "execution_count": 21,
   "metadata": {},
   "outputs": [],
   "source": [
    "missing_tweet_test = df_test.select(\"tweet_id_index\").distinct()\\\n",
    "    .subtract(df_train.select(\"tweet_id_index\").distinct())\n",
    "missing_user_test = df_test.select(\"engaging_user_id_index\").distinct()\\\n",
    "    .subtract(df_train.select(\"engaging_user_id_index\").distinct())"
   ]
  },
  {
   "cell_type": "code",
   "execution_count": 22,
   "metadata": {},
   "outputs": [
    {
     "data": {
      "text/plain": [
       "(8671930, 1787256)"
      ]
     },
     "execution_count": 22,
     "metadata": {},
     "output_type": "execute_result"
    }
   ],
   "source": [
    "missing_tweet_test.count(), missing_user_test.count()\n",
    "#(8671930, 1787256)"
   ]
  },
  {
   "cell_type": "code",
   "execution_count": 12,
   "metadata": {},
   "outputs": [],
   "source": [
    "missing_tweet_indices = id_indices[\"tweet_id\"].select(\"tweet_id_index\").distinct()\\\n",
    "    .subtract(df_train.select(\"tweet_id_index\").distinct())\n",
    "missing_user_indices = id_indices[\"engaging_user_id\"].select(\"engaging_user_id_index\").distinct()\\\n",
    "    .subtract(df_train.select(\"engaging_user_id_index\").distinct())"
   ]
  },
  {
   "cell_type": "code",
   "execution_count": 13,
   "metadata": {},
   "outputs": [
    {
     "data": {
      "text/html": [
       "<div>\n",
       "<style scoped>\n",
       "    .dataframe tbody tr th:only-of-type {\n",
       "        vertical-align: middle;\n",
       "    }\n",
       "\n",
       "    .dataframe tbody tr th {\n",
       "        vertical-align: top;\n",
       "    }\n",
       "\n",
       "    .dataframe thead th {\n",
       "        text-align: right;\n",
       "    }\n",
       "</style>\n",
       "<table border=\"1\" class=\"dataframe\">\n",
       "  <thead>\n",
       "    <tr style=\"text-align: right;\">\n",
       "      <th></th>\n",
       "      <th>tweet_id_index</th>\n",
       "    </tr>\n",
       "  </thead>\n",
       "  <tbody>\n",
       "    <tr>\n",
       "      <th>0</th>\n",
       "      <td>1950</td>\n",
       "    </tr>\n",
       "    <tr>\n",
       "      <th>1</th>\n",
       "      <td>2040</td>\n",
       "    </tr>\n",
       "    <tr>\n",
       "      <th>2</th>\n",
       "      <td>2214</td>\n",
       "    </tr>\n",
       "    <tr>\n",
       "      <th>3</th>\n",
       "      <td>2250</td>\n",
       "    </tr>\n",
       "    <tr>\n",
       "      <th>4</th>\n",
       "      <td>4590</td>\n",
       "    </tr>\n",
       "  </tbody>\n",
       "</table>\n",
       "</div>"
      ],
      "text/plain": [
       "   tweet_id_index\n",
       "0            1950\n",
       "1            2040\n",
       "2            2214\n",
       "3            2250\n",
       "4            4590"
      ]
     },
     "execution_count": 13,
     "metadata": {},
     "output_type": "execute_result"
    }
   ],
   "source": [
    "to_pd(missing_tweet_indices, 5)"
   ]
  },
  {
   "cell_type": "code",
   "execution_count": 14,
   "metadata": {},
   "outputs": [
    {
     "data": {
      "text/html": [
       "<div>\n",
       "<style scoped>\n",
       "    .dataframe tbody tr th:only-of-type {\n",
       "        vertical-align: middle;\n",
       "    }\n",
       "\n",
       "    .dataframe tbody tr th {\n",
       "        vertical-align: top;\n",
       "    }\n",
       "\n",
       "    .dataframe thead th {\n",
       "        text-align: right;\n",
       "    }\n",
       "</style>\n",
       "<table border=\"1\" class=\"dataframe\">\n",
       "  <thead>\n",
       "    <tr style=\"text-align: right;\">\n",
       "      <th></th>\n",
       "      <th>engaging_user_id_index</th>\n",
       "    </tr>\n",
       "  </thead>\n",
       "  <tbody>\n",
       "    <tr>\n",
       "      <th>0</th>\n",
       "      <td>26</td>\n",
       "    </tr>\n",
       "    <tr>\n",
       "      <th>1</th>\n",
       "      <td>4894</td>\n",
       "    </tr>\n",
       "    <tr>\n",
       "      <th>2</th>\n",
       "      <td>5409</td>\n",
       "    </tr>\n",
       "    <tr>\n",
       "      <th>3</th>\n",
       "      <td>9945</td>\n",
       "    </tr>\n",
       "    <tr>\n",
       "      <th>4</th>\n",
       "      <td>11567</td>\n",
       "    </tr>\n",
       "  </tbody>\n",
       "</table>\n",
       "</div>"
      ],
      "text/plain": [
       "   engaging_user_id_index\n",
       "0                      26\n",
       "1                    4894\n",
       "2                    5409\n",
       "3                    9945\n",
       "4                   11567"
      ]
     },
     "execution_count": 14,
     "metadata": {},
     "output_type": "execute_result"
    }
   ],
   "source": [
    "to_pd(missing_user_indices, 5)"
   ]
  },
  {
   "cell_type": "code",
   "execution_count": 15,
   "metadata": {},
   "outputs": [
    {
     "data": {
      "text/plain": [
       "(8671930, 1787256)"
      ]
     },
     "execution_count": 15,
     "metadata": {},
     "output_type": "execute_result"
    }
   ],
   "source": [
    "missing_tweet_indices.count(), missing_user_indices.count()"
   ]
  },
  {
   "cell_type": "code",
   "execution_count": 19,
   "metadata": {},
   "outputs": [
    {
     "name": "stdout",
     "output_type": "stream",
     "text": [
      "+--------------+----------+\n",
      "|tweet_id_index|join_index|\n",
      "+--------------+----------+\n",
      "|          1950|         0|\n",
      "|          2040|         1|\n",
      "|          2214|         2|\n",
      "|          2250|         3|\n",
      "|          4590|         4|\n",
      "|          5385|         5|\n",
      "|          5556|         6|\n",
      "|         11625|         7|\n",
      "|         13460|         8|\n",
      "|         13723|         9|\n",
      "|         14719|        10|\n",
      "|         15194|        11|\n",
      "|         18147|        12|\n",
      "|         21965|        13|\n",
      "|         22165|        14|\n",
      "|         23116|        15|\n",
      "|         23506|        16|\n",
      "|         25084|        17|\n",
      "|         25826|        18|\n",
      "|         26486|        19|\n",
      "+--------------+----------+\n",
      "only showing top 20 rows\n",
      "\n"
     ]
    }
   ],
   "source": [
    "tweets_join_index = missing_tweet_indices.rdd.zipWithIndex().toDF()\n",
    "tweets_join_index = tweets_join_index.withColumn(\"tweet_id_index\", F.col(\"_1\")[\"tweet_id_index\"])\\\n",
    "                .select(F.col(\"tweet_id_index\"), F.col(\"_2\").alias(\"join_index\"))\n",
    "tweets_join_index.show()"
   ]
  },
  {
   "cell_type": "code",
   "execution_count": 23,
   "metadata": {},
   "outputs": [
    {
     "name": "stdout",
     "output_type": "stream",
     "text": [
      "+----------------------+----------+\n",
      "|engaging_user_id_index|join_index|\n",
      "+----------------------+----------+\n",
      "|                    26|         0|\n",
      "|                  4894|         1|\n",
      "|                  5409|         2|\n",
      "|                  9945|         3|\n",
      "|                 11567|         4|\n",
      "|                 11625|         5|\n",
      "|                 14719|         6|\n",
      "|                 14846|         7|\n",
      "|                 15057|         8|\n",
      "|                 15194|         9|\n",
      "|                 17043|        10|\n",
      "|                 21965|        11|\n",
      "|                 29841|        12|\n",
      "|                 40557|        13|\n",
      "|                 40634|        14|\n",
      "|                 50049|        15|\n",
      "|                 50221|        16|\n",
      "|                 57157|        17|\n",
      "|                 60691|        18|\n",
      "|                 64317|        19|\n",
      "+----------------------+----------+\n",
      "only showing top 20 rows\n",
      "\n"
     ]
    }
   ],
   "source": [
    "user_join_index = missing_user_indices.rdd.zipWithIndex().toDF()\n",
    "user_join_index = user_join_index.withColumn(\"engaging_user_id_index\", F.col(\"_1\")[\"engaging_user_id_index\"])\\\n",
    "                .select(F.col(\"engaging_user_id_index\"), F.col(\"_2\").alias(\"join_index\"))\n",
    "user_join_index.show()"
   ]
  },
  {
   "cell_type": "code",
   "execution_count": 24,
   "metadata": {},
   "outputs": [
    {
     "name": "stdout",
     "output_type": "stream",
     "text": [
      "+--------------+----------------------+\n",
      "|tweet_id_index|engaging_user_id_index|\n",
      "+--------------+----------------------+\n",
      "|         37261|                 86453|\n",
      "|         41424|                 89041|\n",
      "|        744935|               1345001|\n",
      "|       1420376|               2731065|\n",
      "|       2524015|               4568705|\n",
      "|       2558714|               4614151|\n",
      "|       2706465|               4935442|\n",
      "|       2929931|               5323077|\n",
      "|       3068488|               5586670|\n",
      "|       3325005|               6069962|\n",
      "|       3375070|               6168921|\n",
      "|       3731384|               6747533|\n",
      "|       3828665|               6917052|\n",
      "|       3856519|               6992119|\n",
      "|       4477641|               8047243|\n",
      "|       4719431|               8414496|\n",
      "|       5358906|               9541598|\n",
      "|       5745189|              10283025|\n",
      "|       6995846|              12504305|\n",
      "|       7362356|              13135878|\n",
      "+--------------+----------------------+\n",
      "only showing top 20 rows\n",
      "\n"
     ]
    }
   ],
   "source": [
    "joined = tweets_join_index.join(user_join_index, [\"join_index\"]).drop(\"join_index\")\n",
    "joined.show()"
   ]
  },
  {
   "cell_type": "code",
   "execution_count": 34,
   "metadata": {},
   "outputs": [
    {
     "name": "stdout",
     "output_type": "stream",
     "text": [
      "+--------------+----------------------+-------+----+-----+--------------------+\n",
      "|tweet_id_index|engaging_user_id_index|retweet|like|reply|retweet_with_comment|\n",
      "+--------------+----------------------+-------+----+-----+--------------------+\n",
      "|         37261|                 86453|      0|   0|    0|                   0|\n",
      "|         41424|                 89041|      0|   0|    0|                   0|\n",
      "|        744935|               1345001|      0|   0|    0|                   0|\n",
      "|       1420376|               2731065|      0|   0|    0|                   0|\n",
      "|       2524015|               4568705|      0|   0|    0|                   0|\n",
      "|       2558714|               4614151|      0|   0|    0|                   0|\n",
      "|       2706465|               4935442|      0|   0|    0|                   0|\n",
      "|       2929931|               5323077|      0|   0|    0|                   0|\n",
      "|       3068488|               5586670|      0|   0|    0|                   0|\n",
      "|       3325005|               6069962|      0|   0|    0|                   0|\n",
      "|       3375070|               6168921|      0|   0|    0|                   0|\n",
      "|       3731384|               6747533|      0|   0|    0|                   0|\n",
      "|       3828665|               6917052|      0|   0|    0|                   0|\n",
      "|       3856519|               6992119|      0|   0|    0|                   0|\n",
      "|       4477641|               8047243|      0|   0|    0|                   0|\n",
      "|       4719431|               8414496|      0|   0|    0|                   0|\n",
      "|       5358906|               9541598|      0|   0|    0|                   0|\n",
      "|       5745189|              10283025|      0|   0|    0|                   0|\n",
      "|       6995846|              12504305|      0|   0|    0|                   0|\n",
      "|       7362356|              13135878|      0|   0|    0|                   0|\n",
      "+--------------+----------------------+-------+----+-----+--------------------+\n",
      "only showing top 20 rows\n",
      "\n"
     ]
    }
   ],
   "source": [
    "joined_schema = joined.withColumn(\"retweet\", F.lit(0).cast(ByteType()))\\\n",
    "    .withColumn(\"like\", F.lit(0).cast(ByteType()))\\\n",
    "    .withColumn(\"reply\", F.lit(0).cast(ByteType()))\\\n",
    "    .withColumn(\"retweet_with_comment\", F.lit(0).cast(ByteType()))\n",
    "joined_schema.show()"
   ]
  },
  {
   "cell_type": "code",
   "execution_count": 35,
   "metadata": {},
   "outputs": [
    {
     "name": "stdout",
     "output_type": "stream",
     "text": [
      "+----+-----+-------+--------------------+--------------+----------------------+\n",
      "|like|reply|retweet|retweet_with_comment|tweet_id_index|engaging_user_id_index|\n",
      "+----+-----+-------+--------------------+--------------+----------------------+\n",
      "|   0|    0|      0|                   0|      55204155|                     0|\n",
      "|   1|    0|      0|                   0|      45145377|                     0|\n",
      "|   0|    0|      0|                   0|       7081791|                     0|\n",
      "|   0|    0|      0|                   0|      37895242|                     0|\n",
      "|   1|    0|      0|                   0|      36986637|                   179|\n",
      "|   1|    0|      0|                   0|      23840070|                   179|\n",
      "|   0|    0|      0|                   0|      45630796|                   179|\n",
      "|   1|    0|      0|                   0|      42699687|                   179|\n",
      "|   1|    0|      0|                   0|      19320798|                   179|\n",
      "|   1|    0|      1|                   0|      16434608|                   179|\n",
      "|   0|    0|      0|                   0|      65512869|                   179|\n",
      "|   1|    0|      0|                   0|       7478717|                   179|\n",
      "|   1|    0|      0|                   0|      19551430|                   179|\n",
      "|   0|    0|      0|                   0|      61050424|                   179|\n",
      "|   1|    0|      0|                   0|      25644892|                   179|\n",
      "|   0|    0|      0|                   0|      40921406|                   373|\n",
      "|   0|    0|      0|                   0|       3181934|                   373|\n",
      "|   0|    0|      0|                   0|       5263147|                   373|\n",
      "|   0|    0|      0|                   0|      41471146|                   373|\n",
      "|   1|    0|      0|                   0|       6583059|                   373|\n",
      "+----+-----+-------+--------------------+--------------+----------------------+\n",
      "only showing top 20 rows\n",
      "\n"
     ]
    }
   ],
   "source": [
    "union_df = df_train.union(joined_schema)\n",
    "union_df.show()"
   ]
  },
  {
   "cell_type": "code",
   "execution_count": 36,
   "metadata": {},
   "outputs": [
    {
     "data": {
      "text/plain": [
       "1787256"
      ]
     },
     "execution_count": 36,
     "metadata": {},
     "output_type": "execute_result"
    }
   ],
   "source": [
    "#1787256\n",
    "union_df.count() - df_train.count()"
   ]
  },
  {
   "cell_type": "code",
   "execution_count": null,
   "metadata": {},
   "outputs": [],
   "source": []
  }
 ],
 "metadata": {
  "kernelspec": {
   "display_name": "PySpark3",
   "language": "python",
   "name": "pyspark3kernel"
  },
  "language_info": {
   "codemirror_mode": {
    "name": "ipython",
    "version": 3
   },
   "file_extension": ".py",
   "mimetype": "text/x-python",
   "name": "python",
   "nbconvert_exporter": "python",
   "pygments_lexer": "ipython3",
   "version": "3.6.6"
  }
 },
 "nbformat": 4,
 "nbformat_minor": 2
}
