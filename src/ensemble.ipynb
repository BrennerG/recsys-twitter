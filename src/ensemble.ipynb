{
 "cells": [
  {
   "cell_type": "code",
   "execution_count": 1,
   "metadata": {},
   "outputs": [],
   "source": [
    "import pandas as pd\n",
    "from pyspark import SparkConf, SparkContext\n",
    "from pyspark.sql.functions import when\n",
    "from pyspark.ml.evaluation import RegressionEvaluator\n",
    "from pyspark.ml.feature import MinMaxScaler\n",
    "from pyspark.ml import Pipeline\n",
    "from pyspark.sql import Row\n",
    "from pyspark.sql import SparkSession\n",
    "from pyspark.sql.types import *\n",
    "import pyspark.sql.functions as F\n",
    "\n",
    "import ensemble\n",
    "import importlib\n",
    "importlib.reload(ensemble)\n",
    "from ensemble import *"
   ]
  },
  {
   "cell_type": "code",
   "execution_count": 2,
   "metadata": {},
   "outputs": [],
   "source": [
    "#.config(\"spark.executor.memoryOverhead\", \"64g\")\\\n",
    "spark = SparkSession\\\n",
    "    .builder\\\n",
    "    .appName(\"ensemble\")\\\n",
    "    .config(\"spark.executor.heartbeatInterval\", \"60s\")\\\n",
    "    .config(\"spark.executor.memory\", \"32g\")\\\n",
    "    .config(\"spark.driver.memory\", \"32g\")\\\n",
    "    .config(\"spark.driver.maxResultSize\", \"64g\")\\\n",
    "    .config(\"spark.sql.crossJoin.enabled\", True)\\\n",
    "    .getOrCreate()\n",
    "sc = spark.sparkContext"
   ]
  },
  {
   "cell_type": "code",
   "execution_count": 10,
   "metadata": {},
   "outputs": [
    {
     "name": "stdout",
     "output_type": "stream",
     "text": [
      "+--------------------------------+--------------------------------+-----+\n",
      "|tweet_id                        |engaging_user_id                |label|\n",
      "+--------------------------------+--------------------------------+-----+\n",
      "|E7D6C5094767223F6F8789A87A1937AB|00000776B07587ECA9717BFC301F2D6E|0    |\n",
      "|129F4A868712BA2B98D31AF98C3066E4|00000B85AAF7DE172876FD96718C4469|1    |\n",
      "|04C6C2175852CDBBC23B2446C7E7C22D|00000E0C9B364891CDE89ECFC54771DE|1    |\n",
      "|168157826315514C120494D4DF8E6216|00000F04EEDBCF3E1FB9A1948BF353B6|1    |\n",
      "|B3E3673782A69D9D8A45D3B222F0B073|000010088197DA00D659853E06935B3E|1    |\n",
      "+--------------------------------+--------------------------------+-----+\n",
      "only showing top 5 rows\n",
      "\n"
     ]
    }
   ],
   "source": [
    "from twitter_preproc import *\n",
    "df = twitter_preproc(spark, sc, \"/tmp/traintweet_1000.tsv\", MF=True).outputDF\n",
    "df = df.select(\"tweet_id\", \"engaging_user_id\", \"like_timestamp\")\\\n",
    "    .withColumn(\"label\", F.when(F.col(\"like_timestamp\").isNull(), F.lit(0)).otherwise(F.lit(1)))\\\n",
    "    .drop(\"like_timestamp\")\n",
    "df.show(5, False)"
   ]
  },
  {
   "cell_type": "code",
   "execution_count": 20,
   "metadata": {},
   "outputs": [
    {
     "data": {
      "text/plain": [
       "(890, 110)"
      ]
     },
     "execution_count": 20,
     "metadata": {},
     "output_type": "execute_result"
    }
   ],
   "source": [
    "train_df, test_df = df.randomSplit([0.9, 0.1])\n",
    "train_df.count(), test_df.count()"
   ]
  },
  {
   "cell_type": "code",
   "execution_count": 21,
   "metadata": {},
   "outputs": [],
   "source": [
    "train_df.repartition(1).write.csv(\"ensemble/train/like_labels\", sep=\"\\x01\", header=True)\n",
    "test_df.repartition(1).write.csv(\"ensemble/test/like_labels\", sep=\"\\x01\", header=True)"
   ]
  },
  {
   "cell_type": "code",
   "execution_count": 22,
   "metadata": {},
   "outputs": [],
   "source": [
    "model_names = [\"model1\", \"model2\", \"model3\"]\n",
    "for model_name in model_names:\n",
    "    train_pred = train_df.withColumn(\"prediction\", F.rand(seed=19)).drop(\"label\")\n",
    "    test_pred = test_df.withColumn(\"prediction\", F.rand(seed=20)).drop(\"label\")\n",
    "    \n",
    "    train_pred.repartition(1).write.csv(\"ensemble/train/{}_predictions\".format(model_name), sep=\"\\x01\", header=True)\n",
    "    test_pred.repartition(1).write.csv(\"ensemble/test/{}_predictions\".format(model_name), sep=\"\\x01\", header=True)"
   ]
  },
  {
   "cell_type": "code",
   "execution_count": 26,
   "metadata": {},
   "outputs": [],
   "source": [
    "ens = ensemble(spark, sc)\n",
    "train_pred_files = {\"model1\": \"ensemble/train/model1_predictions.tsv\", \n",
    "                    \"model2\": \"ensemble/train/model2_predictions.tsv\", \n",
    "                    \"model3\": \"ensemble/train/model3_predictions.tsv\"}\n",
    "test_pred_files = {\"model1\": \"ensemble/test/model1_predictions.tsv\", \n",
    "                    \"model2\": \"ensemble/test/model2_predictions.tsv\", \n",
    "                    \"model3\": \"ensemble/test/model3_predictions.tsv\"}\n",
    "train_label_file = \"ensemble/train/like_labels.tsv\"\n",
    "test_label_file = \"ensemble/test/like_labels.tsv\""
   ]
  },
  {
   "cell_type": "code",
   "execution_count": 27,
   "metadata": {},
   "outputs": [
    {
     "name": "stdout",
     "output_type": "stream",
     "text": [
      "RMSE: 0.49624805566552604\n"
     ]
    }
   ],
   "source": [
    "lr_model = ens.train(train_pred_files, train_label_file)"
   ]
  },
  {
   "cell_type": "code",
   "execution_count": 31,
   "metadata": {},
   "outputs": [
    {
     "name": "stdout",
     "output_type": "stream",
     "text": [
      "+--------------------------------+--------------------------------+----------------------------------------------------------+-----+-------------------+\n",
      "|engaging_user_id                |tweet_id                        |features                                                  |label|prediction         |\n",
      "+--------------------------------+--------------------------------+----------------------------------------------------------+-----+-------------------+\n",
      "|0007B37A7EBA8E4CF515CDA4BAF8D4C3|022171134EBCA7337E5C2240CA9D385F|[0.615530401039301,0.615530401039301,0.615530401039301]   |1    |0.4338748198321983 |\n",
      "|000780F336DBBC2D699CCDAA0C2DB9FE|04232CB67B360F165C318853CFF95CE7|[0.4156275656084283,0.4156275656084283,0.4156275656084283]|0    |0.4463665953322449 |\n",
      "|00054543CE6E7E9761A9BBD72E80FB9B|04AA9EB8E4451A669AB69AA4A1F6CE98|[0.7346618109395978,0.7346618109395978,0.7346618109395978]|0    |0.42643038902024444|\n",
      "|000907BC0DAE6D5CEE187505A24BE9A0|05CABFC97F10D1BA985B46CCE1731B72|[0.9219126177387936,0.9219126177387936,0.9219126177387936]|0    |0.41472922912575644|\n",
      "|0000E7775CB060BBA33740868D7065B8|060725C504B9F9F3D41293A59E8BA096|[0.6942660321876692,0.6942660321876692,0.6942660321876692]|1    |0.42895469038010753|\n",
      "+--------------------------------+--------------------------------+----------------------------------------------------------+-----+-------------------+\n",
      "only showing top 5 rows\n",
      "\n"
     ]
    }
   ],
   "source": [
    "pred_df = ens.test_evaluate(lr_model, test_pred_files, test_label_file)\n",
    "pred_df.show(5, False)"
   ]
  }
 ],
 "metadata": {
  "kernelspec": {
   "display_name": "PySpark3",
   "language": "python",
   "name": "pyspark3kernel"
  },
  "language_info": {
   "codemirror_mode": {
    "name": "ipython",
    "version": 3
   },
   "file_extension": ".py",
   "mimetype": "text/x-python",
   "name": "python",
   "nbconvert_exporter": "python",
   "pygments_lexer": "ipython3",
   "version": "3.6.6"
  }
 },
 "nbformat": 4,
 "nbformat_minor": 2
}
