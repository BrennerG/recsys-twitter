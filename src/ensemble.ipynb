{
 "cells": [
  {
   "cell_type": "code",
   "execution_count": 24,
   "metadata": {},
   "outputs": [],
   "source": [
    "import pandas as pd\n",
    "from pyspark import SparkConf, SparkContext\n",
    "from pyspark.sql.functions import when\n",
    "from pyspark.ml.evaluation import RegressionEvaluator\n",
    "from pyspark.ml.feature import MinMaxScaler\n",
    "from pyspark.ml import Pipeline\n",
    "from pyspark.sql import Row\n",
    "from pyspark.sql import SparkSession\n",
    "from pyspark.sql.types import *\n",
    "import pyspark.sql.functions as F\n",
    "\n",
    "import ensemble\n",
    "import importlib\n",
    "importlib.reload(ensemble)\n",
    "from ensemble import *"
   ]
  },
  {
   "cell_type": "code",
   "execution_count": 2,
   "metadata": {},
   "outputs": [],
   "source": [
    "#.config(\"spark.executor.memoryOverhead\", \"64g\")\\\n",
    "spark = SparkSession\\\n",
    "    .builder\\\n",
    "    .appName(\"ensemble\")\\\n",
    "    .config(\"spark.executor.heartbeatInterval\", \"60s\")\\\n",
    "    .config(\"spark.executor.memory\", \"32g\")\\\n",
    "    .config(\"spark.driver.memory\", \"32g\")\\\n",
    "    .config(\"spark.driver.maxResultSize\", \"64g\")\\\n",
    "    .config(\"spark.sql.crossJoin.enabled\", True)\\\n",
    "    .getOrCreate()\n",
    "sc = spark.sparkContext"
   ]
  },
  {
   "cell_type": "code",
   "execution_count": 10,
   "metadata": {},
   "outputs": [
    {
     "name": "stdout",
     "output_type": "stream",
     "text": [
      "+--------------------------------+--------------------------------+-----+\n",
      "|tweet_id                        |engaging_user_id                |label|\n",
      "+--------------------------------+--------------------------------+-----+\n",
      "|E7D6C5094767223F6F8789A87A1937AB|00000776B07587ECA9717BFC301F2D6E|0    |\n",
      "|129F4A868712BA2B98D31AF98C3066E4|00000B85AAF7DE172876FD96718C4469|1    |\n",
      "|04C6C2175852CDBBC23B2446C7E7C22D|00000E0C9B364891CDE89ECFC54771DE|1    |\n",
      "|168157826315514C120494D4DF8E6216|00000F04EEDBCF3E1FB9A1948BF353B6|1    |\n",
      "|B3E3673782A69D9D8A45D3B222F0B073|000010088197DA00D659853E06935B3E|1    |\n",
      "+--------------------------------+--------------------------------+-----+\n",
      "only showing top 5 rows\n",
      "\n"
     ]
    }
   ],
   "source": [
    "from twitter_preproc import *\n",
    "df = twitter_preproc(spark, sc, \"/tmp/traintweet_1000.tsv\", MF=True).outputDF\n",
    "df = df.select(\"tweet_id\", \"engaging_user_id\", \"like_timestamp\")\\\n",
    "    .withColumn(\"label\", F.when(F.col(\"like_timestamp\").isNull(), F.lit(0)).otherwise(F.lit(1)))\\\n",
    "    .drop(\"like_timestamp\")\n",
    "df.show(5, False)"
   ]
  },
  {
   "cell_type": "code",
   "execution_count": 20,
   "metadata": {},
   "outputs": [
    {
     "data": {
      "text/plain": [
       "(890, 110)"
      ]
     },
     "execution_count": 20,
     "metadata": {},
     "output_type": "execute_result"
    }
   ],
   "source": [
    "train_df, test_df = df.randomSplit([0.9, 0.1])\n",
    "train_df.count(), test_df.count()"
   ]
  },
  {
   "cell_type": "code",
   "execution_count": 21,
   "metadata": {},
   "outputs": [],
   "source": [
    "train_df.repartition(1).write.csv(\"ensemble/train/like_labels\", sep=\"\\x01\", header=True)\n",
    "test_df.repartition(1).write.csv(\"ensemble/test/like_labels\", sep=\"\\x01\", header=True)"
   ]
  },
  {
   "cell_type": "code",
   "execution_count": 22,
   "metadata": {},
   "outputs": [],
   "source": [
    "model_names = [\"model1\", \"model2\", \"model3\"]\n",
    "for model_name in model_names:\n",
    "    train_pred = train_df.withColumn(\"prediction\", F.rand(seed=19)).drop(\"label\")\n",
    "    test_pred = test_df.withColumn(\"prediction\", F.rand(seed=20)).drop(\"label\")\n",
    "    \n",
    "    train_pred.repartition(1).write.csv(\"ensemble/train/{}_predictions\".format(model_name), sep=\"\\x01\", header=True)\n",
    "    test_pred.repartition(1).write.csv(\"ensemble/test/{}_predictions\".format(model_name), sep=\"\\x01\", header=True)"
   ]
  },
  {
   "cell_type": "code",
   "execution_count": 25,
   "metadata": {},
   "outputs": [],
   "source": [
    "ens = ensemble(spark, sc)\n",
    "train_pred_files = {\"model1\": \"ensemble/lol/train/model1_predictions.tsv\", \n",
    "                    \"model2\": \"ensemble/lol/train/model2_predictions.tsv\", \n",
    "                    \"model3\": \"ensemble/lol/train/model3_predictions.tsv\"}\n",
    "test_pred_files = {\"model1\": \"ensemble/lol/test/model1_predictions.tsv\", \n",
    "                    \"model2\": \"ensemble/lol/test/model2_predictions.tsv\", \n",
    "                    \"model3\": \"ensemble/lol/test/model3_predictions.tsv\"}\n",
    "train_label_file = \"ensemble/lol/train/like_labels.tsv\"\n",
    "test_label_file = \"ensemble/lol/test/like_labels.tsv\""
   ]
  },
  {
   "cell_type": "code",
   "execution_count": 26,
   "metadata": {},
   "outputs": [
    {
     "name": "stdout",
     "output_type": "stream",
     "text": [
      "RMSE: 0.49624805566552604\n"
     ]
    }
   ],
   "source": [
    "lr_model = ens.train(train_pred_files, train_label_file)"
   ]
  },
  {
   "cell_type": "code",
   "execution_count": 27,
   "metadata": {},
   "outputs": [
    {
     "data": {
      "text/html": [
       "<div>\n",
       "<style scoped>\n",
       "    .dataframe tbody tr th:only-of-type {\n",
       "        vertical-align: middle;\n",
       "    }\n",
       "\n",
       "    .dataframe tbody tr th {\n",
       "        vertical-align: top;\n",
       "    }\n",
       "\n",
       "    .dataframe thead th {\n",
       "        text-align: right;\n",
       "    }\n",
       "</style>\n",
       "<table border=\"1\" class=\"dataframe\">\n",
       "  <thead>\n",
       "    <tr style=\"text-align: right;\">\n",
       "      <th></th>\n",
       "      <th>areaUnderPR-0.1</th>\n",
       "      <th>areaUnderPR-0.3</th>\n",
       "      <th>areaUnderPR-0.5</th>\n",
       "      <th>areaUnderPR-0.7</th>\n",
       "      <th>areaUnderPR-0.9</th>\n",
       "      <th>log_loss</th>\n",
       "      <th>model_name</th>\n",
       "    </tr>\n",
       "  </thead>\n",
       "  <tbody>\n",
       "    <tr>\n",
       "      <th>0</th>\n",
       "      <td>0.366034</td>\n",
       "      <td>0.355153</td>\n",
       "      <td>0.343640</td>\n",
       "      <td>0.312833</td>\n",
       "      <td>0.379604</td>\n",
       "      <td>0.966158</td>\n",
       "      <td>model1</td>\n",
       "    </tr>\n",
       "    <tr>\n",
       "      <th>1</th>\n",
       "      <td>0.366034</td>\n",
       "      <td>0.355153</td>\n",
       "      <td>0.343640</td>\n",
       "      <td>0.312833</td>\n",
       "      <td>0.379604</td>\n",
       "      <td>0.966158</td>\n",
       "      <td>model2</td>\n",
       "    </tr>\n",
       "    <tr>\n",
       "      <th>2</th>\n",
       "      <td>0.366034</td>\n",
       "      <td>0.355153</td>\n",
       "      <td>0.343640</td>\n",
       "      <td>0.312833</td>\n",
       "      <td>0.379604</td>\n",
       "      <td>0.966158</td>\n",
       "      <td>model3</td>\n",
       "    </tr>\n",
       "    <tr>\n",
       "      <th>3</th>\n",
       "      <td>0.354545</td>\n",
       "      <td>0.354545</td>\n",
       "      <td>0.354545</td>\n",
       "      <td>0.354545</td>\n",
       "      <td>0.354545</td>\n",
       "      <td>0.666254</td>\n",
       "      <td>Ensemble</td>\n",
       "    </tr>\n",
       "  </tbody>\n",
       "</table>\n",
       "</div>"
      ],
      "text/plain": [
       "   areaUnderPR-0.1  areaUnderPR-0.3  areaUnderPR-0.5  areaUnderPR-0.7  \\\n",
       "0         0.366034         0.355153         0.343640         0.312833   \n",
       "1         0.366034         0.355153         0.343640         0.312833   \n",
       "2         0.366034         0.355153         0.343640         0.312833   \n",
       "3         0.354545         0.354545         0.354545         0.354545   \n",
       "\n",
       "   areaUnderPR-0.9  log_loss model_name  \n",
       "0         0.379604  0.966158     model1  \n",
       "1         0.379604  0.966158     model2  \n",
       "2         0.379604  0.966158     model3  \n",
       "3         0.354545  0.666254   Ensemble  "
      ]
     },
     "execution_count": 27,
     "metadata": {},
     "output_type": "execute_result"
    }
   ],
   "source": [
    "eval_df = ens.test_evaluate(lr_model, test_pred_files, test_label_file, thresholds=[0.1, 0.3, 0.5, 0.7, 0.9])\n",
    "eval_df"
   ]
  },
  {
   "cell_type": "code",
   "execution_count": null,
   "metadata": {},
   "outputs": [],
   "source": []
  }
 ],
 "metadata": {
  "kernelspec": {
   "display_name": "PySpark3",
   "language": "python",
   "name": "pyspark3kernel"
  },
  "language_info": {
   "codemirror_mode": {
    "name": "ipython",
    "version": 3
   },
   "file_extension": ".py",
   "mimetype": "text/x-python",
   "name": "python",
   "nbconvert_exporter": "python",
   "pygments_lexer": "ipython3",
   "version": "3.6.6"
  }
 },
 "nbformat": 4,
 "nbformat_minor": 2
}
