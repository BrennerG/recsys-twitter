{
 "cells": [
  {
   "cell_type": "markdown",
   "metadata": {},
   "source": [
    "# NEURAL NETWORK COLLABORATIVE FILTERING\n",
    "This notebook demonstrates our approach for NNCF on a small sample dataset.  \n",
    "Note that some of the functionality is implemented in other classes:\n",
    "* `twitter_preproc.py` (preprocessing)\n",
    "* `nnpreprocessor.py` (one hot encoding)\n",
    "* `NNCFNet.py` (the neural network class)\n",
    "\n",
    "Our neural network approach for the full dataset is in `nncf-submit.py`. To reproduce our submission attempts use: `spark-submit nncf-submit.py`. (NOTE: As described in our report, this script never actually ran through, due to memory overload exceptions. It is just here for reproduction purposes)"
   ]
  },
  {
   "cell_type": "code",
   "execution_count": 1,
   "metadata": {},
   "outputs": [],
   "source": [
    "from pyspark.sql import SparkSession\n",
    "from pyspark import SparkContext, SparkConf\n",
    "import importlib\n",
    "\n",
    "# Building Spark Context\n",
    "# conf = SparkConf().setAll([('spark.executor.memory', '32g'), ('spark.executor.instances','8'),('spark.executor.cores', '12'), ('spark.driver.memory','64g'), ('spark.driver.memoryOverhead', '64g')])\n",
    "conf = SparkConf()\n",
    "spark = SparkSession.builder.appName(\"nncf_train\").config(conf=conf).getOrCreate()\n",
    "sc = spark.sparkContext"
   ]
  },
  {
   "cell_type": "markdown",
   "metadata": {},
   "source": [
    "## Get training data"
   ]
  },
  {
   "cell_type": "code",
   "execution_count": 2,
   "metadata": {},
   "outputs": [],
   "source": [
    "import twitter_preproc\n",
    "\n",
    "base = \"///tmp/\"\n",
    "one_k = \"traintweet_1000.tsv\"\n",
    "ensemble_train = 'supersecret_ensembletrain5k_bootstrap.tsv'\n",
    "ensemble_test = 'supersecret_test5k_bootstrap.tsv'\n",
    "choice = ensemble_test\n",
    "\n",
    "preproc = twitter_preproc.twitter_preproc(spark, sc, base+choice, MF=True)\n",
    "traindata = preproc.getDF()"
   ]
  },
  {
   "cell_type": "markdown",
   "metadata": {},
   "source": [
    "## NNCF specific preprocessing (essentially onehot-encoding)"
   ]
  },
  {
   "cell_type": "code",
   "execution_count": 3,
   "metadata": {},
   "outputs": [],
   "source": [
    "import nnpreprocessor\n",
    "importlib.reload(nnpreprocessor)\n",
    "\n",
    "nnp = nnpreprocessor.NNPreprocessor()\n",
    "engagement = 'retweet_comment'\n",
    "tweets, users, target = nnp.nn_preprocess(traindata)"
   ]
  },
  {
   "cell_type": "markdown",
   "metadata": {},
   "source": [
    "## Train the NN"
   ]
  },
  {
   "cell_type": "code",
   "execution_count": 4,
   "metadata": {},
   "outputs": [
    {
     "name": "stdout",
     "output_type": "stream",
     "text": [
      "epoch  1\n",
      "epoch  2\n"
     ]
    }
   ],
   "source": [
    "from NNCFNet import Net\n",
    "import torch\n",
    "import torch.nn as nn\n",
    "import torch.optim as optim\n",
    "import pandas as pd\n",
    "\n",
    "\n",
    "# Initalize Hyperparameters\n",
    "k = 64\n",
    "n_epochs = 2\n",
    "batch_size = 16\n",
    "learning_rate = 0.001\n",
    "\n",
    "# Initialize Neural Network\n",
    "net = Net(users.shape[1], tweets.shape[1], k)\n",
    "#optimizer = optim.SGD(net.parameters(), lr=learning_rate)\n",
    "optimizer = torch.optim.Adam(net.parameters(), lr=learning_rate)\n",
    "criterion = nn.BCELoss()\n",
    "output = net(users, tweets)\n",
    "\n",
    "# printing aids\n",
    "print_c = 0\n",
    "loss_list = []\n",
    "\n",
    "# Start training\n",
    "for epoch in range(n_epochs):\n",
    "    \n",
    "    print(\"epoch \", epoch+1)\n",
    "\n",
    "    permutation = torch.randperm(users.size()[0])\n",
    "    for i in range(0,users.size()[0], batch_size):\n",
    "        optimizer.zero_grad()\n",
    "\n",
    "        indices = permutation[i:i+batch_size]\n",
    "        batch_x_user = users[indices]\n",
    "        batch_x_tweet = tweets[indices]\n",
    "        batch_y = target[indices]\n",
    "\n",
    "        outputs = net.forward(batch_x_user, batch_x_tweet)\n",
    "        loss = criterion(outputs, batch_y)\n",
    "        loss.backward()\n",
    "        optimizer.step()\n",
    "        \n",
    "        # print & track loss\n",
    "        loss_list.append((print_c,float(loss)))\n",
    "        print_c += 1\n",
    "        \n",
    "# plot the loss\n",
    "plot_df = pd.DataFrame(loss_list)\n",
    "ax = plot_df.set_index(0)[1].plot();\n",
    "fig = ax.get_figure()"
   ]
  },
  {
   "cell_type": "code",
   "execution_count": 5,
   "metadata": {},
   "outputs": [],
   "source": [
    "# save loss plot\n",
    "fig.savefig('../misc/nncf/' + engagement + '.' + 'k' + str(k) + 'ep' + str(n_epochs) + 'batch' + str(batch_size) + str('lr') + str(learning_rate) + '_adam&bce.png')"
   ]
  },
  {
   "cell_type": "markdown",
   "metadata": {},
   "source": [
    "## Create & format output"
   ]
  },
  {
   "cell_type": "code",
   "execution_count": 6,
   "metadata": {},
   "outputs": [],
   "source": [
    "from pyspark.sql.functions import monotonically_increasing_id\n",
    "import numpy as np\n",
    "\n",
    "# get predictions\n",
    "net.eval()\n",
    "prediction = net(users, tweets)\n",
    "p_vec = prediction.detach().numpy().flatten()\n",
    "\n",
    "# scale output\n",
    "scaled = p_vec\n",
    "# scaled = (p_vec - np.min(p_vec))/np.ptp(p_vec)\n",
    "probabilities = [float(x) for x in scaled]\n",
    "\n",
    "# get original order\n",
    "order_df = traindata.withColumn(\"original_order\", monotonically_increasing_id())\n",
    "order_df = order_df.select(\"engaging_user_id\", \"tweet_id\", 'original_order')\n",
    "sorting_tweets = nnp.get_id_indices(order_df, id_column='tweet_id')\n",
    "\n",
    "# rejoin labels\n",
    "result = order_df.join(sorting_tweets, 'tweet_id').sort('original_order').rdd.map(lambda x: (x['engaging_user_id'], x['tweet_id'], probabilities[x['tweet_id_index']]))"
   ]
  },
  {
   "cell_type": "code",
   "execution_count": 7,
   "metadata": {},
   "outputs": [
    {
     "data": {
      "image/png": "[encoded data removed]",
      "text/plain": [
       "<Figure size 432x288 with 1 Axes>"
      ]
     },
     "metadata": {
      "needs_background": "light"
     },
     "output_type": "display_data"
    }
   ],
   "source": [
    "# draw histogram of predictions\n",
    "hist_df = pd.DataFrame(result.toDF([\"engaging_user_id\", \"tweet_id\", 'target']).collect())[2].hist()"
   ]
  },
  {
   "cell_type": "code",
   "execution_count": 8,
   "metadata": {},
   "outputs": [
    {
     "data": {
      "text/plain": [
       "5000"
      ]
     },
     "execution_count": 8,
     "metadata": {},
     "output_type": "execute_result"
    }
   ],
   "source": [
    "result.count()"
   ]
  },
  {
   "cell_type": "markdown",
   "metadata": {},
   "source": [
    "# EXPORT"
   ]
  },
  {
   "cell_type": "code",
   "execution_count": 9,
   "metadata": {},
   "outputs": [],
   "source": [
    "output_PATH = str(engagement + '.' + choice).replace('tsv', 'csv')\n",
    "result_df = result.toDF([\"engaging_user_id\", \"tweet_id\", 'target'])\n",
    "result_df.repartition(1).write.csv(output_PATH, sep=\"\\x01\", header=True)"
   ]
  }
 ],
 "metadata": {
  "kernelspec": {
   "display_name": "Python 3",
   "language": "python",
   "name": "python3"
  },
  "language_info": {
   "codemirror_mode": {
    "name": "ipython",
    "version": 3
   },
   "file_extension": ".py",
   "mimetype": "text/x-python",
   "name": "python",
   "nbconvert_exporter": "python",
   "pygments_lexer": "ipython3",
   "version": "3.6.6"
  }
 },
 "nbformat": 4,
 "nbformat_minor": 2
}
