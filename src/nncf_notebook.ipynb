{
 "cells": [
  {
   "cell_type": "markdown",
   "metadata": {},
   "source": [
    "# NEURAL NETWORK COLLABORATIVE FILTERING\n",
    "This notebook demonstrates our approach for NNCF on a small sample dataset.  \n",
    "Note that some of the functionality is implemented in other classes:\n",
    "* `twitter_preproc.py` (preprocessing)\n",
    "* `nnpreprocessor.py` (one hot encoding)\n",
    "* `NNCFNet.py` (the neural network class)\n",
    "\n",
    "Our neural network approach for the full dataset is in `nncf-submit.py`. To reproduce our submission attempts use: `spark-submit nncf-submit.py`. (NOTE: As described in our report, this script never actually ran through, due to memory overload exceptions. It is just here for reproduction purposes)"
   ]
  },
  {
   "cell_type": "code",
   "execution_count": 1,
   "metadata": {},
   "outputs": [],
   "source": [
    "from pyspark.sql import SparkSession\n",
    "from pyspark import SparkContext, SparkConf\n",
    "import importlib\n",
    "\n",
    "# Building Spark Context\n",
    "# conf = SparkConf().setAll([('spark.executor.memory', '32g'), ('spark.executor.instances','8'),('spark.executor.cores', '12'), ('spark.driver.memory','64g'), ('spark.driver.memoryOverhead', '64g')])\n",
    "conf = SparkConf()\n",
    "spark = SparkSession.builder.appName(\"nncf_train\").config(conf=conf).getOrCreate()\n",
    "sc = spark.sparkContext"
   ]
  },
  {
   "cell_type": "markdown",
   "metadata": {},
   "source": [
    "## Get training data"
   ]
  },
  {
   "cell_type": "code",
   "execution_count": 5,
   "metadata": {},
   "outputs": [],
   "source": [
    "import twitter_preproc\n",
    "\n",
    "base = \"///tmp/\"\n",
    "one_k = \"traintweet_1000.tsv\"\n",
    "ensemble_train = 'supersecret_ensembletrain5k_bootstrap.tsv'\n",
    "ensemble_test = 'supersecret_test5k_bootstrap.tsv'\n",
    "choice = ensemble_train\n",
    "\n",
    "preproc = twitter_preproc.twitter_preproc(spark, sc, base+choice, MF=True)\n",
    "traindata = preproc.getDF()"
   ]
  },
  {
   "cell_type": "markdown",
   "metadata": {},
   "source": [
    "## NNCF specific preprocessing (essentially onehot-encoding)"
   ]
  },
  {
   "cell_type": "code",
   "execution_count": 96,
   "metadata": {},
   "outputs": [],
   "source": [
    "import nnpreprocessor\n",
    "importlib.reload(nnpreprocessor)\n",
    "\n",
    "nnp = nnpreprocessor.NNPreprocessor()\n",
    "engagement = 'like'\n",
    "tweets, users, target = nnp.nn_preprocess(traindata)"
   ]
  },
  {
   "cell_type": "markdown",
   "metadata": {},
   "source": [
    "## Train the NN"
   ]
  },
  {
   "cell_type": "code",
   "execution_count": 103,
   "metadata": {},
   "outputs": [
    {
     "name": "stdout",
     "output_type": "stream",
     "text": [
      "epoch  1\n",
      "epoch  2\n"
     ]
    },
    {
     "data": {
      "image/png": "[encoded data removed]",
      "text/plain": [
       "<Figure size 432x288 with 1 Axes>"
      ]
     },
     "metadata": {
      "needs_background": "light"
     },
     "output_type": "display_data"
    }
   ],
   "source": [
    "from NNCFNet import Net\n",
    "import torch\n",
    "import torch.nn as nn\n",
    "import torch.optim as optim\n",
    "import pandas as pd\n",
    "\n",
    "\n",
    "# Initalize Hyperparameters\n",
    "k = 32\n",
    "n_epochs = 2\n",
    "batch_size = 16\n",
    "learning_rate = 0.001\n",
    "\n",
    "# Initialize Neural Network\n",
    "net = Net(users.shape[1], tweets.shape[1], k)\n",
    "optimizer = optim.SGD(net.parameters(), lr=learning_rate)\n",
    "criterion = nn.BCELoss()\n",
    "output = net(users, tweets)\n",
    "\n",
    "# printing aids\n",
    "print_c = 0\n",
    "loss_list = []\n",
    "\n",
    "# Start training\n",
    "for epoch in range(n_epochs):\n",
    "    \n",
    "    print(\"epoch \", epoch+1)\n",
    "\n",
    "    permutation = torch.randperm(users.size()[0])\n",
    "    for i in range(0,users.size()[0], batch_size):\n",
    "        optimizer.zero_grad()\n",
    "\n",
    "        indices = permutation[i:i+batch_size]\n",
    "        batch_x_user = users[indices]\n",
    "        batch_x_tweet = tweets[indices]\n",
    "        batch_y = target[indices]\n",
    "\n",
    "        outputs = net.forward(batch_x_user, batch_x_tweet)\n",
    "        loss = criterion(outputs, batch_y)\n",
    "        loss.backward()\n",
    "        optimizer.step()\n",
    "        \n",
    "        # print & track loss\n",
    "        loss_list.append((print_c,float(loss)))\n",
    "        print_c += 1\n",
    "        \n",
    "\n",
    "plot_df = pd.DataFrame(loss_list)\n",
    "ax = plot_df.set_index(0)[1].plot();"
   ]
  },
  {
   "cell_type": "code",
   "execution_count": 98,
   "metadata": {},
   "outputs": [],
   "source": [
    "# save loss plot\n",
    "fig = ax.get_figure()\n",
    "fig.savefig('../misc/' + engagement + '.' + 'k' + str(k) + 'ep' + str(n_epochs) + 'batch' + str(batch_size) + str('lr') + str(learning_rate) + '_sgd&bce.png')"
   ]
  },
  {
   "cell_type": "markdown",
   "metadata": {},
   "source": [
    "## Create & format output"
   ]
  },
  {
   "cell_type": "code",
   "execution_count": 11,
   "metadata": {},
   "outputs": [],
   "source": [
    "from pyspark.sql.functions import monotonically_increasing_id\n",
    "import numpy as np\n",
    "\n",
    "# get predictions\n",
    "net.eval()\n",
    "prediction = net(users, tweets)\n",
    "p_vec = prediction.detach().numpy().flatten()\n",
    "scaled = (p_vec - np.min(p_vec))/np.ptp(p_vec)\n",
    "probabilities = [float(x) for x in scaled]\n",
    "\n",
    "# get original order\n",
    "order_df = traindata.withColumn(\"original_order\", monotonically_increasing_id())\n",
    "order_df = order_df.select(\"engaging_user_id\", \"tweet_id\", 'original_order')\n",
    "sorting_tweets = nnp.get_id_indices(order_df, id_column='tweet_id')\n",
    "\n",
    "# rejoin labels\n",
    "result = order_df.join(sorting_tweets, 'tweet_id').sort('original_order').rdd.map(lambda x: (x['engaging_user_id'], x['tweet_id'], probabilities[x['tweet_id_index']]))"
   ]
  },
  {
   "cell_type": "code",
   "execution_count": 12,
   "metadata": {},
   "outputs": [
    {
     "data": {
      "text/plain": [
       "[Row(engaging_user_id='7B7D097D72AF9DCD7E837DFF78CEDF52', tweet_id='5AFF129F735EC6F0253F737AE3F2F42F', target=0.6835331916809082),\n",
       " Row(engaging_user_id='A642139C310DB3F102228A5DBA18B6E0', tweet_id='FD74F0E085CB3E023979AE780EA8FC80', target=0.592300534248352),\n",
       " Row(engaging_user_id='ED9DEBA062966F6C8205E73C0E649173', tweet_id='DFCCD8ADEFA7470ECA7A951F458596FA', target=0.3181644082069397),\n",
       " Row(engaging_user_id='6676161018E87D26FF70851FA9B0A392', tweet_id='21E6E7126A127CA8E0169D77F9AFF6A6', target=0.5780625343322754),\n",
       " Row(engaging_user_id='782C21B4DE30F3778FC4831AE66364E7', tweet_id='B0CE7999915ACA4460C643FCB3DC71AC', target=0.6954712271690369),\n",
       " Row(engaging_user_id='91EE3A7B13352EBB028F53DADD6D68FF', tweet_id='6A7F4301D0F4E5E9362CD0B1DFA7804A', target=0.48337987065315247),\n",
       " Row(engaging_user_id='488D313AB8BDB52E0A9D368C5E6CFCA1', tweet_id='B0900E5B6D77E782077DF1BD3DCE5A7B', target=0.40419474244117737),\n",
       " Row(engaging_user_id='71C35F95D19CBE2F245C3F01723013EB', tweet_id='DE79883E7D9BDFD104041C047688327D', target=0.5212200880050659),\n",
       " Row(engaging_user_id='72A21960E2ABFF4CA229D72CA8F4CADC', tweet_id='3CC6ADBD7EFBAC13851A306D6F66ABCC', target=0.3971852660179138),\n",
       " Row(engaging_user_id='10038A514E310AA507938D40773621D1', tweet_id='7F2F5F2129624252281FD84DB519856D', target=0.5897541046142578)]"
      ]
     },
     "execution_count": 12,
     "metadata": {},
     "output_type": "execute_result"
    }
   ],
   "source": [
    "result.toDF([\"engaging_user_id\", \"tweet_id\", 'target']).take(10)"
   ]
  }
 ],
 "metadata": {
  "kernelspec": {
   "display_name": "Python 3",
   "language": "python",
   "name": "python3"
  },
  "language_info": {
   "codemirror_mode": {
    "name": "ipython",
    "version": 3
   },
   "file_extension": ".py",
   "mimetype": "text/x-python",
   "name": "python",
   "nbconvert_exporter": "python",
   "pygments_lexer": "ipython3",
   "version": "3.6.6"
  }
 },
 "nbformat": 4,
 "nbformat_minor": 2
}
