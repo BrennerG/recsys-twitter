{
 "cells": [
  {
   "cell_type": "code",
   "execution_count": 1,
   "metadata": {},
   "outputs": [],
   "source": [
    "import pandas as pd\n",
    "from pyspark import SparkConf, SparkContext\n",
    "from pyspark.sql.functions import when\n",
    "from pyspark.ml.evaluation import RegressionEvaluator\n",
    "from pyspark.ml.recommendation import ALS, ALSModel\n",
    "from pyspark.ml import Pipeline\n",
    "from pyspark.ml.feature import StringIndexer\n",
    "from pyspark.sql import Row\n",
    "from pyspark.sql import SparkSession\n",
    "from pyspark.sql.types import *\n",
    "import pyspark.sql.functions as F\n",
    "from IPython.display import display\n",
    "\n",
    "import matrix_factorization\n",
    "import importlib\n",
    "importlib.reload(matrix_factorization)\n",
    "from matrix_factorization import *"
   ]
  },
  {
   "cell_type": "code",
   "execution_count": null,
   "metadata": {},
   "outputs": [],
   "source": [
    "#.config(\"spark.executor.memoryOverhead\", \"64g\")\\\n",
    "spark = SparkSession\\\n",
    "    .builder\\\n",
    "    .appName(\"matrix-factorization\")\\\n",
    "    .config(\"spark.executor.heartbeatInterval\", \"60s\")\\\n",
    "    .config(\"spark.executor.memory\", \"32g\")\\\n",
    "    .config(\"spark.driver.memory\", \"32g\")\\\n",
    "    .config(\"spark.driver.maxResultSize\", \"64g\")\\\n",
    "    .config(\"spark.sql.crossJoin.enabled\", True)\\\n",
    "    .getOrCreate()\n",
    "sc = spark.sparkContext"
   ]
  },
  {
   "cell_type": "code",
   "execution_count": null,
   "metadata": {},
   "outputs": [],
   "source": [
    "def to_pd(df, take=0):\n",
    "    if take > 0:\n",
    "        return pd.DataFrame(df.take(take), columns=df.columns)\n",
    "    return pd.DataFrame(df.collect(), columns=df.columns)"
   ]
  },
  {
   "cell_type": "code",
   "execution_count": null,
   "metadata": {},
   "outputs": [],
   "source": [
    "mf = matrix_factorization(spark, sc)\n",
    "mf.read_train(\"test_indexed/full_train_mf_indexed.tsv\", is_preprocessed=True)\n",
    "mf.full_train = mf.train\n",
    "mf.read_train(\"test_indexed/train_mf_indexed.tsv\", is_preprocessed=True)\n",
    "mf.read_test(\"test_indexed/test_mf_indexed.tsv\", is_preprocessed=True)"
   ]
  },
  {
   "cell_type": "code",
   "execution_count": 10,
   "metadata": {},
   "outputs": [
    {
     "name": "stdout",
     "output_type": "stream",
     "text": [
      "+----+-----+-------+--------------------+--------------+----------------------+----------+\n",
      "|like|reply|retweet|retweet_with_comment|tweet_id_index|engaging_user_id_index|prediction|\n",
      "+----+-----+-------+--------------------+--------------+----------------------+----------+\n",
      "|   0|    0|      0|                   0|          1580|              10325608|       0.0|\n",
      "|   0|    0|      0|                   0|          2142|              13721555|       0.0|\n",
      "|   0|    0|      0|                   0|          2142|               7785837|       0.0|\n",
      "|   0|    0|      0|                   0|          3997|              18849816|       0.0|\n",
      "|   0|    0|      0|                   0|          4935|               4009461|       0.0|\n",
      "|   0|    0|      0|                   0|          7880|              12412775|       0.0|\n",
      "|   0|    0|      0|                   0|         10817|              12684839|       0.0|\n",
      "|   0|    0|      0|                   0|         11033|              20281415|       0.0|\n",
      "|   0|    0|      0|                   0|         11141|              11699278|       0.0|\n",
      "|   0|    0|      0|                   0|         11141|              17598165|       0.0|\n",
      "|   0|    0|      0|                   0|         11141|               7936121|       0.0|\n",
      "|   0|    0|      0|                   0|         12046|              16914425|       0.0|\n",
      "|   0|    0|      0|                   0|         12940|              12745438|       0.0|\n",
      "|   0|    0|      0|                   0|         16339|               7010862|       0.0|\n",
      "|   0|    0|      0|                   0|         19079|              10822235|       0.0|\n",
      "|   0|    0|      0|                   0|         19553|              17433153|       0.0|\n",
      "|   0|    0|      0|                   0|         20683|               9083221|       0.0|\n",
      "|   0|    0|      0|                   0|         21220|              14017151|       0.0|\n",
      "|   0|    0|      0|                   0|         21220|               7873178|       0.0|\n",
      "|   0|    0|      0|                   0|         21220|               9668051|       0.0|\n",
      "+----+-----+-------+--------------------+--------------+----------------------+----------+\n",
      "only showing top 20 rows\n",
      "\n"
     ]
    }
   ],
   "source": [
    "model = ALSModel.load(\"test_indexed/model_reply_rank_75\")\n",
    "predictions = model.transform(mf.test)\n",
    "predictions.show()"
   ]
  },
  {
   "cell_type": "code",
   "execution_count": null,
   "metadata": {},
   "outputs": [],
   "source": [
    "# Generate top 10 movie recommendations for each user\n",
    "userRecs = model.recommendForAllUsers(10)\n",
    "# Generate top 10 user recommendations for each movie\n",
    "movieRecs = model.recommendForAllItems(10)\n",
    "\n",
    "# Generate top 10 movie recommendations for a specified set of users\n",
    "users = df.select(als.getUserCol()).distinct().limit(3)\n",
    "userSubsetRecs = model.recommendForUserSubset(users, 10)\n",
    "# Generate top 10 user recommendations for a specified set of movies\n",
    "movies = df.select(als.getItemCol()).distinct().limit(3)\n",
    "movieSubSetRecs = model.recommendForItemSubset(movies, 10)"
   ]
  }
 ],
 "metadata": {
  "kernelspec": {
   "display_name": "PySpark3",
   "language": "python",
   "name": "pyspark3kernel"
  },
  "language_info": {
   "codemirror_mode": {
    "name": "ipython",
    "version": 3
   },
   "file_extension": ".py",
   "mimetype": "text/x-python",
   "name": "python",
   "nbconvert_exporter": "python",
   "pygments_lexer": "ipython3",
   "version": "3.6.6"
  }
 },
 "nbformat": 4,
 "nbformat_minor": 2
}
