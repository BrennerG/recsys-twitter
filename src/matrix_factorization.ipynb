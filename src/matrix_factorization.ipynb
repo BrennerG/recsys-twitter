{
 "cells": [
  {
   "cell_type": "code",
   "execution_count": 37,
   "metadata": {},
   "outputs": [],
   "source": [
    "import pandas as pd\n",
    "from pyspark import SparkConf, SparkContext\n",
    "from pyspark.sql.functions import when\n",
    "from pyspark.ml.evaluation import RegressionEvaluator\n",
    "from pyspark.ml.recommendation import ALS, ALSModel\n",
    "from pyspark.ml.feature import MinMaxScaler\n",
    "from pyspark.ml import Pipeline\n",
    "from pyspark.ml.feature import StringIndexer\n",
    "from pyspark.sql import Row\n",
    "from pyspark.sql import SparkSession\n",
    "from pyspark.sql.types import *\n",
    "import pyspark.sql.functions as F\n",
    "from IPython.display import display\n",
    "\n",
    "import matrix_factorization\n",
    "import importlib\n",
    "importlib.reload(matrix_factorization)\n",
    "from matrix_factorization import *"
   ]
  },
  {
   "cell_type": "code",
   "execution_count": 2,
   "metadata": {},
   "outputs": [],
   "source": [
    "#.config(\"spark.executor.memoryOverhead\", \"64g\")\\\n",
    "spark = SparkSession\\\n",
    "    .builder\\\n",
    "    .appName(\"matrix-factorization\")\\\n",
    "    .config(\"spark.executor.heartbeatInterval\", \"60s\")\\\n",
    "    .config(\"spark.executor.memory\", \"32g\")\\\n",
    "    .config(\"spark.driver.memory\", \"32g\")\\\n",
    "    .config(\"spark.driver.maxResultSize\", \"64g\")\\\n",
    "    .config(\"spark.sql.crossJoin.enabled\", True)\\\n",
    "    .getOrCreate()\n",
    "sc = spark.sparkContext"
   ]
  },
  {
   "cell_type": "code",
   "execution_count": 33,
   "metadata": {},
   "outputs": [],
   "source": [
    "def to_pd(df, take=0):\n",
    "    if take > 0:\n",
    "        return pd.DataFrame(df.take(take), columns=df.columns)\n",
    "    return pd.DataFrame(df.collect(), columns=df.columns)"
   ]
  },
  {
   "cell_type": "code",
   "execution_count": 38,
   "metadata": {},
   "outputs": [],
   "source": [
    "mf = matrix_factorization(spark, sc)\n",
    "mf.read_train(\"test_1000/train.tsv\", is_preprocessed=True)\n",
    "mf.read_test(\"test_1000/test.tsv\", is_preprocessed=True)"
   ]
  },
  {
   "cell_type": "code",
   "execution_count": 52,
   "metadata": {},
   "outputs": [
    {
     "name": "stdout",
     "output_type": "stream",
     "text": [
      "Root-mean-square error = 0.6295443133971624\n"
     ]
    }
   ],
   "source": [
    "model, predictions, rmse = mf.train_evaluate(mf.train, mf.test, \"like\", alpha=10.0)"
   ]
  },
  {
   "cell_type": "code",
   "execution_count": 53,
   "metadata": {},
   "outputs": [
    {
     "name": "stdout",
     "output_type": "stream",
     "text": [
      "+----+-----+-------+--------------------+--------------+----------------------+-------------+\n",
      "|like|reply|retweet|retweet_with_comment|tweet_id_index|engaging_user_id_index|   prediction|\n",
      "+----+-----+-------+--------------------+--------------+----------------------+-------------+\n",
      "|   0|    0|      0|                   0|      39242055|               5430254|-0.0015333588|\n",
      "|   1|    0|      0|                   0|      24906891|              17949469|-0.0010719532|\n",
      "|   1|    0|      0|                   0|      42438594|               1378566|-2.8725952E-4|\n",
      "|   0|    0|      0|                   0|      12920656|               2571973| -5.200132E-5|\n",
      "|   0|    0|      0|                   0|       9168197|               6007640|-2.7330727E-6|\n",
      "|   0|    0|      0|                   0|      25478716|                654055| -2.394495E-6|\n",
      "|   0|    0|      0|                   0|      38105035|              10622989|-2.5292042E-7|\n",
      "|   0|    0|      0|                   0|      11265623|               8217403|-2.4911964E-7|\n",
      "|   0|    0|      0|                   0|      31612664|               6914985| -2.116723E-7|\n",
      "|   0|    0|      0|                   0|      33701521|              10787702|-2.0341798E-7|\n",
      "|   0|    0|      0|                   0|       6213924|               1382977|  -6.79902E-8|\n",
      "|   0|    0|      0|                   0|      30351540|               9002971|-4.3511353E-8|\n",
      "|   1|    0|      0|                   0|      12212091|               8675472|  -3.53253E-8|\n",
      "|   0|    0|      0|                   0|       6163418|               8667286|-2.5672868E-8|\n",
      "|   0|    0|      0|                   0|      15732269|              11113774|-1.8625954E-8|\n",
      "|   0|    0|      0|                   0|      21509103|              15396066| -6.229059E-9|\n",
      "|   0|    0|      0|                   0|      15329290|                321650|-3.3136287E-9|\n",
      "|   1|    0|      0|                   0|       8022563|               5107651|-2.2269049E-9|\n",
      "|   0|    0|      0|                   0|      25708454|               5650817|-2.2156905E-9|\n",
      "|   0|    0|      0|                   0|      41080957|              14112530|-1.6230928E-9|\n",
      "+----+-----+-------+--------------------+--------------+----------------------+-------------+\n",
      "only showing top 20 rows\n",
      "\n"
     ]
    }
   ],
   "source": [
    "predictions.orderBy(F.col(\"prediction\")).show()"
   ]
  },
  {
   "cell_type": "code",
   "execution_count": 54,
   "metadata": {},
   "outputs": [
    {
     "name": "stdout",
     "output_type": "stream",
     "text": [
      "+----+-----+-------+--------------------+--------------+----------------------+------------+\n",
      "|like|reply|retweet|retweet_with_comment|tweet_id_index|engaging_user_id_index|  prediction|\n",
      "+----+-----+-------+--------------------+--------------+----------------------+------------+\n",
      "|   1|    0|      0|                   0|       1650757|               3589078|    0.669931|\n",
      "|   1|    0|      0|                   0|      21919139|               9461293|   0.6505501|\n",
      "|   1|    0|      0|                   0|       3313753|                372718|  0.32617986|\n",
      "|   1|    0|      0|                   0|      11210478|               4571275|  0.31241173|\n",
      "|   1|    0|      0|                   0|      10735098|               6843623|  0.24108389|\n",
      "|   1|    0|      1|                   0|      23149261|               9547160|  0.20245434|\n",
      "|   1|    0|      0|                   0|      15123324|              12426495|  0.07558963|\n",
      "|   1|    0|      0|                   0|      22905480|               5910910| 0.043361686|\n",
      "|   1|    0|      0|                   0|      13818032|              16994509| 0.036423203|\n",
      "|   1|    0|      0|                   0|      25455840|               9629108| 0.008517529|\n",
      "|   1|    0|      0|                   0|      36088279|              11897565|0.0038267898|\n",
      "|   1|    0|      0|                   0|      17838203|                664222|0.0026469287|\n",
      "|   1|    0|      0|                   0|        411251|               9197658|0.0020928169|\n",
      "|   1|    0|      0|                   0|      31629731|               4289144|0.0020574592|\n",
      "|   1|    0|      0|                   0|       7315170|               4529116|  0.00173498|\n",
      "|   1|    0|      0|                   0|      38529452|                890986|0.0016099495|\n",
      "|   1|    0|      0|                   0|      37057211|               2852786|0.0015425074|\n",
      "|   1|    0|      0|                   0|      26558192|               9690303|0.0010971691|\n",
      "|   1|    0|      0|                   0|       9440528|               1006450|9.4313634E-4|\n",
      "|   0|    0|      0|                   0|      12441101|              13616306| 7.714506E-4|\n",
      "+----+-----+-------+--------------------+--------------+----------------------+------------+\n",
      "only showing top 20 rows\n",
      "\n"
     ]
    }
   ],
   "source": [
    "predictions.orderBy(F.col(\"prediction\").desc()).show()"
   ]
  },
  {
   "cell_type": "code",
   "execution_count": 55,
   "metadata": {},
   "outputs": [],
   "source": [
    "pd_df = pd.DataFrame(predictions.collect(), columns=predictions.columns)"
   ]
  },
  {
   "cell_type": "code",
   "execution_count": 56,
   "metadata": {},
   "outputs": [],
   "source": [
    "normalized = (pd_df[\"prediction\"] - pd_df[\"prediction\"].min()) / (pd_df[\"prediction\"].max() - pd_df[\"prediction\"].min())"
   ]
  },
  {
   "cell_type": "code",
   "execution_count": 57,
   "metadata": {},
   "outputs": [
    {
     "data": {
      "text/plain": [
       "(2,)"
      ]
     },
     "execution_count": 57,
     "metadata": {},
     "output_type": "execute_result"
    }
   ],
   "source": [
    "normalized[normalized >= 0.5].shape"
   ]
  },
  {
   "cell_type": "code",
   "execution_count": 58,
   "metadata": {},
   "outputs": [
    {
     "data": {
      "image/png": "[encoded data removed]",
      "text/plain": [
       "<Figure size 432x288 with 1 Axes>"
      ]
     },
     "metadata": {
      "needs_background": "light"
     },
     "output_type": "display_data"
    }
   ],
   "source": [
    "import matplotlib.pyplot as plt\n",
    "pd_df[\"prediction\"].hist(bins=50)\n",
    "plt.savefig(\"../plots/lol.png\")\n",
    "\n",
    "normalized.hist(bins=50)\n",
    "plt.savefig(\"../plots/lolnorm.png\")"
   ]
  },
  {
   "cell_type": "code",
   "execution_count": 13,
   "metadata": {},
   "outputs": [],
   "source": [
    "model.save(\"test_1000/model\")"
   ]
  },
  {
   "cell_type": "code",
   "execution_count": null,
   "metadata": {},
   "outputs": [],
   "source": [
    "# Generate top 10 movie recommendations for each user\n",
    "userRecs = model.recommendForAllUsers(10)\n",
    "# Generate top 10 user recommendations for each movie\n",
    "movieRecs = model.recommendForAllItems(10)\n",
    "\n",
    "# Generate top 10 movie recommendations for a specified set of users\n",
    "users = df.select(als.getUserCol()).distinct().limit(3)\n",
    "userSubsetRecs = model.recommendForUserSubset(users, 10)\n",
    "# Generate top 10 user recommendations for a specified set of movies\n",
    "movies = df.select(als.getItemCol()).distinct().limit(3)\n",
    "movieSubSetRecs = model.recommendForItemSubset(movies, 10)"
   ]
  }
 ],
 "metadata": {
  "kernelspec": {
   "display_name": "PySpark3",
   "language": "python",
   "name": "pyspark3kernel"
  },
  "language_info": {
   "codemirror_mode": {
    "name": "ipython",
    "version": 3
   },
   "file_extension": ".py",
   "mimetype": "text/x-python",
   "name": "python",
   "nbconvert_exporter": "python",
   "pygments_lexer": "ipython3",
   "version": "3.6.6"
  }
 },
 "nbformat": 4,
 "nbformat_minor": 2
}
