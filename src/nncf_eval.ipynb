{
 "cells": [
  {
   "cell_type": "code",
   "execution_count": 1,
   "metadata": {},
   "outputs": [],
   "source": [
    "import numpy as np\n",
    "from scipy.sparse import csr_matrix\n",
    "from scipy.sparse import vstack\n",
    "import twitter_preproc\n",
    "import importlib\n",
    "importlib.reload(twitter_preproc)\n",
    "from twitter_preproc import *\n",
    "from operator import attrgetter\n",
    "import pandas as pd\n",
    "from pyspark.sql import SparkSession\n",
    "from pyspark import SparkContext, SparkConf\n",
    "from twitter_preproc import twitter_preproc\n",
    "\n",
    "from pyspark.ml.feature import OneHotEncoder\n",
    "from pyspark.ml import Pipeline\n",
    "from pyspark.ml.feature import StringIndexer\n",
    "\n",
    "import torch.nn as nn\n",
    "import torch\n",
    "import torch.nn.functional as F\n",
    "import math\n",
    "import torch.optim as optim\n",
    "\n",
    "import sys, traceback\n",
    "\n",
    "import NNPreprocessor as NNP\n",
    "importlib.reload(NNP)\n",
    "import NNCFNet\n",
    "importlib.reload(NNCFNet)\n",
    "\n",
    "from sklearn.metrics import roc_auc_score\n",
    "\n",
    "import json"
   ]
  },
  {
   "cell_type": "code",
   "execution_count": 2,
   "metadata": {},
   "outputs": [],
   "source": [
    "# Building Spark Context\n",
    "conf = SparkConf()\n",
    "spark = SparkSession.builder.appName(\"nncf_eval\").config(conf=conf).getOrCreate()\n",
    "sc = spark.sparkContext"
   ]
  },
  {
   "cell_type": "markdown",
   "metadata": {},
   "source": [
    "# LOAD DATA "
   ]
  },
  {
   "cell_type": "code",
   "execution_count": 3,
   "metadata": {},
   "outputs": [],
   "source": [
    "train = \"///tmp/traintweet_1000.tsv\" # irrelevant; only needed for preproc class to shut up\n",
    "test = \"///tmp/supersecret_ensembletrain5k_bootstrap.tsv\"\n",
    "val = \"///tmp/supersecret_test5k_bootstrap.tsv\"\n",
    "model_PATH = '../misc/NNCF_model_save_5k.pth'\n",
    "\n",
    "# basic preprocessing\n",
    "preproc = twitter_preproc(spark, sc, val, testFile=test, MF=True)\n",
    "test_df = preproc.getTestDF()"
   ]
  },
  {
   "cell_type": "code",
   "execution_count": 4,
   "metadata": {},
   "outputs": [
    {
     "data": {
      "text/plain": [
       "(torch.Size([5012, 5000]), torch.Size([5012, 5000]), torch.Size([5012, 1]))"
      ]
     },
     "execution_count": 4,
     "metadata": {},
     "output_type": "execute_result"
    }
   ],
   "source": [
    "# neural network specific pre-processing\n",
    "nnpre = NNP.NNPreprocessor()\n",
    "unpadded_users, unpadded_tweets, unpadded_target = nnpre.nn_preprocess(test_df)\n",
    "tweets, users, target = nnpre.pad(unpadded_tweets, unpadded_users, unpadded_target, 5000)\n",
    "tweets.shape, users.shape, target.shape"
   ]
  },
  {
   "cell_type": "code",
   "execution_count": 5,
   "metadata": {},
   "outputs": [],
   "source": [
    "# parse target variable\n",
    "flat_target = target.detach().numpy().flatten().astype(float)"
   ]
  },
  {
   "cell_type": "markdown",
   "metadata": {},
   "source": [
    "# LOAD MODEL"
   ]
  },
  {
   "cell_type": "code",
   "execution_count": 6,
   "metadata": {},
   "outputs": [
    {
     "data": {
      "text/plain": [
       "Net(\n",
       "  (dense1): Linear(in_features=5000, out_features=32, bias=True)\n",
       "  (dense2): Linear(in_features=5000, out_features=32, bias=True)\n",
       "  (fc1): Linear(in_features=64, out_features=32, bias=True)\n",
       "  (fc2): Linear(in_features=32, out_features=16, bias=True)\n",
       "  (fc3): Linear(in_features=16, out_features=1, bias=True)\n",
       ")"
      ]
     },
     "execution_count": 6,
     "metadata": {},
     "output_type": "execute_result"
    }
   ],
   "source": [
    "model = NNCFNet.Net(users.shape[1], tweets.shape[1], 32)\n",
    "model.load_state_dict(torch.load(model_PATH))\n",
    "model.eval()"
   ]
  },
  {
   "cell_type": "markdown",
   "metadata": {},
   "source": [
    "# PREDICT"
   ]
  },
  {
   "cell_type": "code",
   "execution_count": 7,
   "metadata": {},
   "outputs": [],
   "source": [
    "def predict(user, tweets, round_to_class=False):\n",
    "    # run\n",
    "    outputs = model(users, tweets)\n",
    "\n",
    "    # label classes\n",
    "    probabilities = outputs.detach().numpy().flatten()\n",
    "    \n",
    "    if round_to_class:\n",
    "        return probabilities.round()\n",
    "    else:\n",
    "        threshold = probabilities > probabilities.mean()\n",
    "        return threshold.astype(float)\n",
    "    \n",
    "prediction = predict(users, tweets)"
   ]
  },
  {
   "cell_type": "markdown",
   "metadata": {},
   "source": [
    "# EXPORT"
   ]
  },
  {
   "cell_type": "code",
   "execution_count": 8,
   "metadata": {},
   "outputs": [],
   "source": [
    "# establish original order\n",
    "order_df = test_df.withColumn(\"original_order\", monotonically_increasing_id())\n",
    "order_df = order_df.select(\"engaging_user_id\", \"tweet_id\", 'original_order')\n",
    "\n",
    "# get preprocessing order\n",
    "sorting_tweets = nnpre.get_id_indices(order_df, id_column='tweet_id')\n",
    "sorting_users = nnpre.get_id_indices(order_df, id_column='engaging_user_id')\n",
    "\n",
    "# join labels and sort back to original order\n",
    "result = order_df.join(sorting_tweets, 'tweet_id').sort('original_order').rdd.map(lambda x: (x['engaging_user_id'], x['tweet_id'], prediction[x['tweet_id_index']]))"
   ]
  },
  {
   "cell_type": "code",
   "execution_count": 9,
   "metadata": {},
   "outputs": [],
   "source": [
    "def toCSVLine(data):\n",
    "    return ','.join(str(d) for d in data)\n",
    "\n",
    "lines = result.map(toCSVLine)\n",
    "lines.saveAsTextFile('prediction_test5k_bootstrap.csv')"
   ]
  }
 ],
 "metadata": {
  "kernelspec": {
   "display_name": "Python 3",
   "language": "python",
   "name": "python3"
  },
  "language_info": {
   "codemirror_mode": {
    "name": "ipython",
    "version": 3
   },
   "file_extension": ".py",
   "mimetype": "text/x-python",
   "name": "python",
   "nbconvert_exporter": "python",
   "pygments_lexer": "ipython3",
   "version": "3.6.6"
  }
 },
 "nbformat": 4,
 "nbformat_minor": 2
}
